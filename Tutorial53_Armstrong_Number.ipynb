{
  "nbformat": 4,
  "nbformat_minor": 0,
  "metadata": {
    "colab": {
      "name": "Tutorial53_Armstrong-Number.ipynb",
      "provenance": [],
      "authorship_tag": "ABX9TyNw1dygWAFrDWNvz8z+wkPg",
      "include_colab_link": true
    },
    "kernelspec": {
      "name": "python3",
      "display_name": "Python 3"
    }
  },
  "cells": [
    {
      "cell_type": "markdown",
      "metadata": {
        "id": "view-in-github",
        "colab_type": "text"
      },
      "source": [
        "<a href=\"https://colab.research.google.com/github/Shambhavi-Gupta/Tutorial53_Armstrong-number/blob/main/Tutorial53_Armstrong_Number.ipynb\" target=\"_parent\"><img src=\"https://colab.research.google.com/assets/colab-badge.svg\" alt=\"Open In Colab\"/></a>"
      ]
    },
    {
      "cell_type": "code",
      "metadata": {
        "id": "I0Ytx5I7DRV6"
      },
      "source": [
        "# n = int(input(\"Enter a number : \"))\r\n",
        "# copy = n\r\n",
        "# sum = 0\r\n",
        "# order = len(str(n))\r\n",
        "# while(n>0):\r\n",
        "#     digit = n%10\r\n",
        "#     sum += digit ** order\r\n",
        "#     n = n//10\r\n",
        "# if (sum==copy):\r\n",
        "#     print(f\"{copy} is an armstrong number\")\r\n",
        "# else:\r\n",
        "#     print(f\"{copy} is not an armstrong number\")\r\n",
        "\r\n"
      ],
      "execution_count": null,
      "outputs": []
    }
  ]
}